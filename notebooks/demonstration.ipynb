{
 "cells": [
  {
   "cell_type": "markdown",
   "metadata": {},
   "source": [
    "# Demonstration of Dynamic Network Weighting\n",
    "\n",
    "TODO: Consider changing title. "
   ]
  },
  {
   "cell_type": "code",
   "execution_count": null,
   "metadata": {},
   "outputs": [],
   "source": [
    "     git config --global user.name\n",
    "     git config --global user.email"
   ]
  },
  {
   "cell_type": "markdown",
   "metadata": {},
   "source": [
    "## Background\n",
    "\n",
    "* There are three *stakeholder groups* in our system: Red, Blue, and Yellow. They can be identified via [Reputation Proofs](addlink), for example an ERC-1155 NFT.\n",
    "* Within each stakeholder group, we can identify different achievements. In our example, represented by tokens, the token-Ids under one ERC-1155 contract. We give these different achievements numbers. So there are $RED_1$, $RED_2$, $BLUE_1$, $BLUE_2$, etc.\n",
    "* Each stakeholder (or rather stakeholder wallet), holds minimum one of these achievement tokens. \n",
    "* Overall, group Red achievement tokens are rarest, imagine we have introduced group Red just recently in our community. Comparatively, the supply of Blue and Yellow achievement tokens is much larger in our community. \n",
    "* If we'd count only the number of achievement tokens in our voting, group Blue and Yellow would be most powerful. What if we'd like to define voting power by the value of achievements, not the supply of tokens? We have to introduce a balancing mechanism: Dynamic Network-Weight Scaling.\n",
    "* The *cweight* of an individual achievement is defined to be \n",
    "$cweight = \\text{Achievement Token Supply} \\times \\text{Achievement Token Weight}$.\n",
    "* The *cweight* of a stakeholder group is the sum of the *cweight* of all achievement tokens (supply). \n",
    "* **Fundamental Property:** For this example, we consider the achievements of the newly created Red stakeholder group as most relevant for the voting. Thus, the cweights should satisfy:\n",
    "$$ Red cweight > Blue cweight = Yellow cweight.$$ Whatever exact vote weighting we apply, the Red stakeholder group should have most voting power. Blue and Yellow should have equal voting power."
   ]
  },
  {
   "cell_type": "markdown",
   "metadata": {},
   "source": [
    "## Accessing Credential Information\n",
    "\n",
    "### Background \n",
    "To begin, we need data about the voters and their credentials (e.g. NFTs and tokens). \n",
    "\n",
    "This is input in the form of a .csv file with\n",
    "* index equal to voter IDs (e.g. wallet addresses)\n",
    "* columns are indicating the achievement tokens $RED_1$, $RED_2$, $BLUE_1$, $BLUE_2$, etc. \n",
    "* each entry is either 1 or 0, corresponding to ownership or non-ownership of the particular achievement token in the respective wallet. \n",
    "\n",
    "### Mechanics \n",
    "1. Make sure that this .ipynb file is in the same directory as the voter data. \n",
    "2. To use your own data, change the value of `REPUTATION_INFO_FILE` from `default_reputation_data.csv` to the string of your own filename. "
   ]
  },
  {
   "cell_type": "code",
   "execution_count": null,
   "metadata": {},
   "outputs": [],
   "source": [
    "# Code to read in a file \n",
    "REPUTATION_INFO_FILE = \"default_reputation_data.csv\""
   ]
  },
  {
   "cell_type": "code",
   "execution_count": null,
   "metadata": {},
   "outputs": [],
   "source": [
    "## Accessing Achievement Information\n",
    "\n",
    "# TODO"
   ]
  },
  {
   "cell_type": "markdown",
   "metadata": {},
   "source": [
    "## Assigning Initial Weights\n",
    "\n",
    "TODO "
   ]
  },
  {
   "cell_type": "markdown",
   "metadata": {},
   "source": [
    "## Re-weighting to Achieve Desired Properties \n",
    "\n",
    "TODO "
   ]
  },
  {
   "cell_type": "markdown",
   "metadata": {},
   "source": [
    "## Visualizing Impact of Re-weighting\n",
    "\n",
    "TODO "
    "Wishlist: Chart based on a) dummy data to simulate the evolution of achievement token supply (including the fact that Red achievements were just recently introduced). b) we show the evolution of the voting weight for all 6 achievement tokens based on supply. c) we compare with the base weight, and 1token1vote weight in the chart. d) the dummy data should include two main events: d1) the introduction of Red achievement tokens and d2) a major increase in the $RED_1$ token supply. \n",
   ]
  },
 {
   "cell_type": "markdown",
   "metadata": {},
   "source": [
    "## Avoiding negative incentives: zero-sum games in reputation\n",
    "\n",
    "TODO "
    "While re-weighting allows to increase the voting weight of our stakeholder group Red overall, it can decrease the voting weight of individual achievement tokens in certain cases. Here's why: the cweight is defined on an accumulated level, thus any individual achievement token receives a share of this voting power. The fundamental property of our system defines \n",
    "$$Blue cweight = Yellow cweight.$$.\n",
    "Whenever the supply of Blue or Yellow achievement tokens grows",
   ]
  },
  {
   "cell_type": "markdown",
   "metadata": {},
   "source": [
    "## Choosing a Voting Mechanism\n",
    "\n",
    "TODO "
   ]
  },
  {
   "cell_type": "markdown",
   "metadata": {},
   "source": [
    "## Requirement Analysis\n",
    "\n",
    "TODO "
   ]
  }
 ],
 "metadata": {
  "language_info": {
   "name": "python"
  }
 },
 "nbformat": 4,
 "nbformat_minor": 2
}
