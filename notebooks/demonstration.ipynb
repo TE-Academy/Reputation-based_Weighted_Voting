{
 "cells": [
  {
   "cell_type": "markdown",
   "metadata": {},
   "source": [
    "# Demonstration of Dynamic Network Weighting\n",
    "\n",
    "TODO: Consider changing title. "
   ]
  },
  {
   "cell_type": "code",
   "execution_count": 1,
   "metadata": {},
   "outputs": [],
   "source": [
    "import matplotlib.pyplot as plt\n",
    "import numpy as np\n",
    "import pandas as pd\n",
    "from typing import Dict\n",
    "\n",
    "import sys\n",
    "sys.path.append(\"..\")"
   ]
  },
  {
   "cell_type": "markdown",
   "metadata": {},
   "source": [
    "## Background\n",
    "\n",
    "* There are three *groups* of NFTS: Red, Blue, and Yellow.\n",
    "* Within each group, there are two different types of NFTs, numbered 1 and 2. So there are $RED_1$, $RED_2$, $BLUE_1$, etc. \n",
    "* Each eligible voter holds at least one of these NFTs. \n",
    "* Overall, Red NFTs are rarest and represent the most value. Comparatively, Blue and Yellow NFTs are easier to get. \n",
    "* However, there is no requirement that the two types of NFTs within a given \n",
    "* The *cweight* of an individual credential is defined to be \n",
    "$cweight = \\text{Number of Credential Holders} \\times \\text{Credential Weight}$.\n",
    "* The *cweight* of a group of NFTs is just the sum of the *cweight* of each individual credential. \n",
    "* **Fundamental Property:** For this example, the cweights should satisfy:\n",
    "$$ Red cweight \\geq Blue cweight = Yellow cweight.$$ This reflects the greater insight of Red NFT holders in the community. "
   ]
  },
  {
   "cell_type": "markdown",
   "metadata": {},
   "source": [
    "## Accessing Credential Information\n",
    "\n",
    "### Background \n",
    "To begin, we need data about the voters and their credentials (e.g. NFTs and tokens). \n",
    "\n",
    "This is input in the form of a .csv file with\n",
    "* a column called `voter` that contains voter IDs (e.g. wallet addresses)\n",
    "*  columns are **RED**, **BLUE**, and **YELLOW** \n",
    "* each entry is either 1 or 0, corresponding to ownership or non-ownership of the particular NFT. \n",
    "\n",
    "### Mechanics \n",
    "1. Make sure that this .ipynb file is in the same directory as the voter data. \n",
    "2. To use your own data, change the value of `VOTER_INFO_FILE` from `default_voter_data.csv` to the string of your own filename. "
   ]
  },
  {
   "cell_type": "code",
   "execution_count": 2,
   "metadata": {},
   "outputs": [],
   "source": [
    "# Code to read in a file \n",
    "VOTER_INFO_FILE = \"data/default_voter_data.csv\""
   ]
  },
  {
   "cell_type": "code",
   "execution_count": 3,
   "metadata": {},
   "outputs": [],
   "source": [
    "## Accessing Credential Information\n"
   ]
  },
  {
   "cell_type": "code",
   "execution_count": 4,
   "metadata": {},
   "outputs": [],
   "source": [
    "# Read Initial Data From csv file\n",
    "voter_cred_df = pd.read_csv(VOTER_INFO_FILE, index_col = 'voter')\n",
    "\n",
    "#TODO: Move to uilts for processing\n",
    "def voter_cred_df_to_dict(voter_cred_df: pd.DataFrame) -> Dict[str, Dict[str, float]]:\n",
    "    voter_cred_dict = {}\n",
    "    for voter in list(voter_cred_df.index):\n",
    "        voter_cred_dict[voter] = {}\n",
    "        for cred in list(voter_cred_df.columns):\n",
    "            voter_cred_dict[voter][cred] = voter_cred_df.at[voter,cred]\n",
    "    return voter_cred_dict"
   ]
  },
  {
   "cell_type": "code",
   "execution_count": 5,
   "metadata": {},
   "outputs": [
    {
     "data": {
      "text/plain": [
       "{'voter_0': {'red_1': 0,\n",
       "  'red_2': 1,\n",
       "  'blue_1': 1,\n",
       "  'blue_2': 1,\n",
       "  'yellow_1': 0,\n",
       "  'yellow_2': 1},\n",
       " 'voter_1': {'red_1': 1,\n",
       "  'red_2': 0,\n",
       "  'blue_1': 0,\n",
       "  'blue_2': 0,\n",
       "  'yellow_1': 0,\n",
       "  'yellow_2': 0},\n",
       " 'voter_2': {'red_1': 0,\n",
       "  'red_2': 0,\n",
       "  'blue_1': 0,\n",
       "  'blue_2': 0,\n",
       "  'yellow_1': 0,\n",
       "  'yellow_2': 1},\n",
       " 'voter_3': {'red_1': 0,\n",
       "  'red_2': 0,\n",
       "  'blue_1': 1,\n",
       "  'blue_2': 0,\n",
       "  'yellow_1': 1,\n",
       "  'yellow_2': 0},\n",
       " 'voter_4': {'red_1': 0,\n",
       "  'red_2': 0,\n",
       "  'blue_1': 1,\n",
       "  'blue_2': 0,\n",
       "  'yellow_1': 0,\n",
       "  'yellow_2': 1}}"
      ]
     },
     "execution_count": 5,
     "metadata": {},
     "output_type": "execute_result"
    }
   ],
   "source": [
    "voter_cred_dict = voter_cred_df_to_dict(voter_cred_df)\n",
    "voter_cred_dict"
   ]
  },
  {
   "cell_type": "markdown",
   "metadata": {},
   "source": [
    "## Assigning Initial Weights\n",
    "\n",
    "One way to get started is to assign some initial weights to get the process started, to indicate domain expert knowledge of relative importance. \n",
    "\n",
    "By default, all weights are set equal to 1.0. To change this, type new values in the textbox. "
   ]
  },
  {
   "cell_type": "code",
   "execution_count": 6,
   "metadata": {},
   "outputs": [
    {
     "data": {
      "application/vnd.jupyter.widget-view+json": {
       "model_id": "9bd8ed804f594a898563f64dcfc440ca",
       "version_major": 2,
       "version_minor": 0
      },
      "text/plain": [
       "VBox(children=(HTML(value='<h2> Assign Weights Below </h2>'), HBox(children=(VBox(children=(FloatText(value=1.…"
      ]
     },
     "metadata": {},
     "output_type": "display_data"
    }
   ],
   "source": [
    "from ipywidgets import FloatText, HTML, Button, HBox, VBox\n",
    "\n",
    "total_weight = 0\n",
    "\n",
    "weights = {}\n",
    "weights[\"red_1\"] = FloatText(description='red_1', value=1.0, layout={'width': '200px'})\n",
    "weights[\"blue_1\"] = FloatText(description='blue_1', value=1.0, layout={'width': '200px'})\n",
    "weights[\"yellow_1\"] = FloatText(description='yellow_1', value=1.0, layout={'width': '200px'})\n",
    "weights[\"red_2\"] = FloatText(description='red_2', value=1.0, layout={'width': '200px'})\n",
    "weights[\"blue_2\"] = FloatText(description='blue_2', value=1.0, layout={'width': '200px'})\n",
    "weights[\"yellow_2\"] = FloatText(description='yellow_2', value=1.0, layout={'width': '200px'})\n",
    "total_weight_widget = HTML(value=f\"Total weight: {total_weight}\")\n",
    "\n",
    "\n",
    "\n",
    "def update_total_weight(b):\n",
    "    total_weight = sum(weight.value for weight in weights.values())\n",
    "    total_weight_widget.value = f\"Total weight: {total_weight}\"\n",
    "\n",
    "# Add a title for the widget box\n",
    "title_widget = HTML(value=\"<h2> Assign Weights Below </h2>\")\n",
    "\n",
    "# Create two columns for weights\n",
    "weights_column_1 = VBox([weights[\"red_1\"], weights[\"blue_1\"], weights[\"yellow_1\"]])\n",
    "weights_column_2 = VBox([weights[\"red_2\"], weights[\"blue_2\"], weights[\"yellow_2\"]])  # This column is intentionally left empty to maintain the two-column layout\n",
    "weights_columns = HBox([weights_column_1, weights_column_2])\n",
    "\n",
    "# Create a box for the update button and total weight display\n",
    "update_total_weight_box = VBox([Button(description=\"Update Total Weight\", on_click=update_total_weight), HTML(value=\"Total weight:\")])\n",
    "\n",
    "# Combine the weights columns and the update box\n",
    "combined_widget_box = VBox([title_widget, weights_columns, update_total_weight_box])\n",
    "display(combined_widget_box)\n",
    "\n",
    "# TODO: Make it so the total weight value updates on the button click. \n",
    "# TODO: Add a table summarizing relative weights. "
   ]
  },
  {
   "cell_type": "code",
   "execution_count": 10,
   "metadata": {},
   "outputs": [
    {
     "data": {
      "image/png": "[encoded data removed]",
      "text/plain": [
       "<Figure size 640x480 with 1 Axes>"
      ]
     },
     "metadata": {},
     "output_type": "display_data"
    }
   ],
   "source": [
    "\n",
    "# Plot Initial Weights\n",
    "\n",
    "cweight_values = [voter_cred_df[col].sum() * weights.get(col).value \n",
    "                  for col in voter_cred_df.columns]\n",
    "cweight_values_array = np.array(cweight_values)\n",
    "cred_names = list(voter_cred_df.columns)\n",
    "\n",
    "initial_cweights = pd.Series(\n",
    "    cweight_values_array, index=cred_names\n",
    ").sort_values(ascending=True)\n",
    "\n",
    "ax = initial_cweights.plot(kind='barh')\n",
    "ax.set_title(\"Initial cweights\")\n",
    "ax.figure.tight_layout()"
   ]
  },
  {
   "cell_type": "code",
   "execution_count": 17,
   "metadata": {},
   "outputs": [
    {
     "ename": "NameError",
     "evalue": "name 'plt' is not defined",
     "output_type": "error",
     "traceback": [
      "\u001b[1;31m---------------------------------------------------------------------------\u001b[0m",
      "\u001b[1;31mNameError\u001b[0m                                 Traceback (most recent call last)",
      "Cell \u001b[1;32mIn[17], line 15\u001b[0m\n\u001b[0;32m      7\u001b[0m color_creds \u001b[38;5;241m=\u001b[39m {\n\u001b[0;32m      8\u001b[0m     \u001b[38;5;124m\"\u001b[39m\u001b[38;5;124mred\u001b[39m\u001b[38;5;124m\"\u001b[39m: [\u001b[38;5;124m\"\u001b[39m\u001b[38;5;124mred_1\u001b[39m\u001b[38;5;124m\"\u001b[39m, \u001b[38;5;124m\"\u001b[39m\u001b[38;5;124mred_2\u001b[39m\u001b[38;5;124m\"\u001b[39m],\n\u001b[0;32m      9\u001b[0m     \u001b[38;5;124m\"\u001b[39m\u001b[38;5;124mblue\u001b[39m\u001b[38;5;124m\"\u001b[39m: [\u001b[38;5;124m\"\u001b[39m\u001b[38;5;124mblue_1\u001b[39m\u001b[38;5;124m\"\u001b[39m, \u001b[38;5;124m\"\u001b[39m\u001b[38;5;124mblue_2\u001b[39m\u001b[38;5;124m\"\u001b[39m],\n\u001b[0;32m     10\u001b[0m     \u001b[38;5;124m\"\u001b[39m\u001b[38;5;124myellow\u001b[39m\u001b[38;5;124m\"\u001b[39m: [\u001b[38;5;124m\"\u001b[39m\u001b[38;5;124myellow_1\u001b[39m\u001b[38;5;124m\"\u001b[39m, \u001b[38;5;124m\"\u001b[39m\u001b[38;5;124myellow_2\u001b[39m\u001b[38;5;124m\"\u001b[39m]\n\u001b[0;32m     11\u001b[0m }\n\u001b[0;32m     13\u001b[0m initial_cweights_totals \u001b[38;5;241m=\u001b[39m calculate_cweight_totals(color_creds, initial_cweights)\n\u001b[1;32m---> 15\u001b[0m \u001b[43mplt\u001b[49m\u001b[38;5;241m.\u001b[39mfigure(figsize\u001b[38;5;241m=\u001b[39m(\u001b[38;5;241m10\u001b[39m, \u001b[38;5;241m8\u001b[39m))\n\u001b[0;32m     16\u001b[0m plt\u001b[38;5;241m.\u001b[39mpie(initial_cweights_totals\u001b[38;5;241m.\u001b[39mvalues(), labels\u001b[38;5;241m=\u001b[39minitial_cweights_totals\u001b[38;5;241m.\u001b[39mkeys(), autopct\u001b[38;5;241m=\u001b[39m\u001b[38;5;124m'\u001b[39m\u001b[38;5;132;01m%1.1f\u001b[39;00m\u001b[38;5;132;01m%%\u001b[39;00m\u001b[38;5;124m'\u001b[39m)\n\u001b[0;32m     17\u001b[0m plt\u001b[38;5;241m.\u001b[39mtitle(\u001b[38;5;124m'\u001b[39m\u001b[38;5;124mInitial cweights Totals\u001b[39m\u001b[38;5;124m'\u001b[39m)\n",
      "\u001b[1;31mNameError\u001b[0m: name 'plt' is not defined"
     ]
    }
   ],
   "source": [
    "def calculate_cweight_totals(color_creds, initial_cweights):\n",
    "    return {\n",
    "        color: initial_cweights[creds].sum() for color, creds in color_creds.items()\n",
    "    }\n",
    "\n",
    "# Example usage\n",
    "color_creds = {\n",
    "    \"red\": [\"red_1\", \"red_2\"],\n",
    "    \"blue\": [\"blue_1\", \"blue_2\"],\n",
    "    \"yellow\": [\"yellow_1\", \"yellow_2\"]\n",
    "}\n",
    "\n",
    "initial_cweights_totals = calculate_cweight_totals(color_creds, initial_cweights)\n",
    "\n",
    "plt.figure(figsize=(10, 8))\n",
    "plt.pie(initial_cweights_totals.values(), labels=initial_cweights_totals.keys(), autopct='%1.1f%%')\n",
    "plt.title('Initial cweights Totals')\n",
    "plt.show()\n"
   ]
  },
  {
   "cell_type": "markdown",
   "metadata": {},
   "source": [
    "## Re-weighting to Achieve Desired Properties \n",
    "\n"
   ]
  },
  {
   "cell_type": "markdown",
   "metadata": {},
   "source": [
    "## Visualizing Impact of Re-weighting\n",
    "\n",
    "TODO "
   ]
  },
  {
   "cell_type": "markdown",
   "metadata": {},
   "source": [
    "## Choosing a Voting Mechanism\n",
    "\n",
    "TODO "
   ]
  },
  {
   "cell_type": "markdown",
   "metadata": {},
   "source": [
    "## Requirement Analysis\n",
    "\n",
    "TODO "
   ]
  }
 ],
 "metadata": {
  "kernelspec": {
   "display_name": "Python 3",
   "language": "python",
   "name": "python3"
  },
  "language_info": {
   "codemirror_mode": {
    "name": "ipython",
    "version": 3
   },
   "file_extension": ".py",
   "mimetype": "text/x-python",
   "name": "python",
   "nbconvert_exporter": "python",
   "pygments_lexer": "ipython3",
   "version": "3.11.6"
  }
 },
 "nbformat": 4,
 "nbformat_minor": 2
}
