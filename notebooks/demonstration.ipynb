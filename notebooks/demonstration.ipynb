{
 "cells": [
  {
   "cell_type": "markdown",
   "metadata": {},
   "source": [
    "# Demonstration of Dynamic Network Weighting\n",
    "\n",
    "TODO: Consider changing title. "
   ]
  },
  {
   "cell_type": "code",
   "execution_count": null,
   "metadata": {},
   "outputs": [],
   "source": [
    "     git config --global user.name\n",
    "     git config --global user.email"
   ]
  },
  {
   "cell_type": "markdown",
   "metadata": {},
   "source": [
    "## Background\n",
    "\n",
    "* There are three *groups* of NFTS: Red, Blue, and Yellow.\n",
    "* Within each group, there are two different types of NFTs, numbered 1 and 2. So there are $RED_1$, $RED_2$, $BLUE_1$, etc. \n",
    "* Each eligible voter holds at least one of these NFTs. \n",
    "* Overall, Red NFTs are rarest and represent the most value. Comparatively, Blue and Yellow NFTs are easier to get. \n",
    "* However, there is no requirement that the two types of NFTs within a given \n",
    "* The *cweight* of an individual credential is defined to be \n",
    "$cweight = \\text{Number of Credential Holders} \\times \\text{Credential Weight}$.\n",
    "* The *cweight* of a group of NFTs is just the sum of the *cweight* of each individual credential. \n",
    "* **Fundamental Property:** For this example, the cweights should satisfy:\n",
    "$$ Red cweight \\geq Blue cweight = Yellow cweight.$$ This reflects the greater insight of Red NFT holders in the community. "
   ]
  },
  {
   "cell_type": "markdown",
   "metadata": {},
   "source": [
    "## Accessing Credential Information\n",
    "\n",
    "### Background \n",
    "To begin, we need data about the voters and their credentials (e.g. NFTs and tokens). \n",
    "\n",
    "This is input in the form of a .csv file with\n",
    "* index equal to voter IDs (e.g. wallet addresses)\n",
    "*  columns are **RED**, **BLUE**, and **YELLOW** \n",
    "* each entry is either 1 or 0, corresponding to ownership or non-ownership of the particular NFT. \n",
    "\n",
    "### Mechanics \n",
    "1. Make sure that this .ipynb file is in the same directory as the voter data. \n",
    "2. To use your own data, change the value of `VOTER_INFO_FILE` from `default_voter_data.csv` to the string of your own filename. "
   ]
  },
  {
   "cell_type": "code",
   "execution_count": null,
   "metadata": {},
   "outputs": [],
   "source": [
    "# Code to read in a file \n",
    "VOTER_INFO_FILE = \"default_voter_data.csv\""
   ]
  },
  {
   "cell_type": "code",
   "execution_count": null,
   "metadata": {},
   "outputs": [],
   "source": [
    "## Accessing Credential Information\n",
    "\n",
    "# TODO"
   ]
  },
  {
   "cell_type": "markdown",
   "metadata": {},
   "source": [
    "## Assigning Initial Weights\n",
    "\n",
    "TODO "
   ]
  },
  {
   "cell_type": "markdown",
   "metadata": {},
   "source": [
    "## Re-weighting to Achieve Desired Properties \n",
    "\n",
    "TODO "
   ]
  },
  {
   "cell_type": "markdown",
   "metadata": {},
   "source": [
    "## Visualizing Impact of Re-weighting\n",
    "\n",
    "TODO "
   ]
  },
  {
   "cell_type": "markdown",
   "metadata": {},
   "source": [
    "## Choosing a Voting Mechanism\n",
    "\n",
    "TODO "
   ]
  },
  {
   "cell_type": "markdown",
   "metadata": {},
   "source": [
    "## Requirement Analysis\n",
    "\n",
    "TODO "
   ]
  }
 ],
 "metadata": {
  "language_info": {
   "name": "python"
  }
 },
 "nbformat": 4,
 "nbformat_minor": 2
}
