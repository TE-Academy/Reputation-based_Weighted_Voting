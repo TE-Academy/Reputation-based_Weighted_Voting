{
 "cells": [
  {
   "cell_type": "markdown",
   "metadata": {},
   "source": [
    "# Reweighting Mechanisms Explanation\n",
    "\n",
    "This notebook serves as documentation explaining the `ReweightingMechanism` class, found in `mechanisms.reweighting`. "
   ]
  },
  {
   "cell_type": "markdown",
   "metadata": {},
   "source": [
    "## Custom Types\n",
    "\n",
    "Reweighting Mechanisms use a number of custom types, found in `mechanisms.reweighting_types`:\n",
    "\n",
    "* `Credential`: a string giving the name of a credential (e.g. an NFT)\n",
    "* `GroupName`: a string giving the name of a group of credentials to be reweighted (e.g. \"Experts\", \"Blue Team\", etc.)\n",
    "* `VoterData`: a DataFrame giving information about which voters hold which credentials \n",
    "* `GroupRule`: a rule specifying how a group should be weighted. Each `GroupWeightRule` consists of three things. \n",
    "        - `selection_rule`: Determines which cells should be selected to use in the rule. This should be a function that takes as input a row from a `VoterData` DataFrame, and returns `True` or `False` depending on whether that row should be eligible for group membership.\n",
    "        - `credentials_to_sum`: a list of strings, specifying which credentials from a given row should be added when calculating the group's *cweight*.\n",
    "        - `credentials_to_reweight`: a list of strings, specifying which credentials from a given row should be re-weighted when this group is processed. \n",
    "\n",
    "* `GroupRuleDict`: a dictionary specifying which `GroupRule` should be used for each group. To be valid for use, the `credentials_to_reweight` from all keys in the `GroupRuleDict` should contain every credential exactly once, and the `selection_rule`s overall keys should cover each cell in `VoterData` exactly once. \n",
    "\n",
    "\n",
    "* `GroupMask`: a DataFrame consisting of 0 or 1 in each entry, used to filter specific values from a larger DataFrame. \n",
    "* `GroupMaskRulesDict`: a dictionary specifying which `GroupMask` should be used for each group.\n",
    "* `NewCredentialRule`: a logical rule for creating a new credential, such as a credential that should only be issued if someone has a combination of other credentials.\n",
    "* `NewCredentialRuleDict`: a dictionary that tells the names of new credentials to be created, along with rules for how they will be. "
   ]
  },
  {
   "cell_type": "code",
   "execution_count": 1,
   "metadata": {},
   "outputs": [],
   "source": [
    "import sys\n",
    "sys.path.append('..')\n",
    "\n",
    "import numpy as np\n",
    "\n",
    "from copy import deepcopy\n",
    "\n",
    "from mechanisms.reweighting_types import *\n",
    "from mechanisms.reweighting import ReweightingMechanism\n",
    "from mechanisms.proportional_reweighting import ProportionalReweightingMechanism\n",
    "from mechanisms.ordered_reweighting import OrderedReweightingMechanism"
   ]
  },
  {
   "cell_type": "code",
   "execution_count": 2,
   "metadata": {},
   "outputs": [],
   "source": [
    "example_voter_data = pd.read_csv(\"data/upper_triangular_color_voter_data.csv\", index_col=0)"
   ]
  },
  {
   "cell_type": "code",
   "execution_count": 3,
   "metadata": {},
   "outputs": [
    {
     "data": {
      "text/html": [
       "<div>\n",
       "<style scoped>\n",
       "    .dataframe tbody tr th:only-of-type {\n",
       "        vertical-align: middle;\n",
       "    }\n",
       "\n",
       "    .dataframe tbody tr th {\n",
       "        vertical-align: top;\n",
       "    }\n",
       "\n",
       "    .dataframe thead th {\n",
       "        text-align: right;\n",
       "    }\n",
       "</style>\n",
       "<table border=\"1\" class=\"dataframe\">\n",
       "  <thead>\n",
       "    <tr style=\"text-align: right;\">\n",
       "      <th></th>\n",
       "      <th>red_1</th>\n",
       "      <th>red_2</th>\n",
       "      <th>blue_1</th>\n",
       "      <th>blue_2</th>\n",
       "      <th>yellow_1</th>\n",
       "      <th>yellow_2</th>\n",
       "    </tr>\n",
       "  </thead>\n",
       "  <tbody>\n",
       "    <tr>\n",
       "      <th>voter_0</th>\n",
       "      <td>1</td>\n",
       "      <td>1</td>\n",
       "      <td>1</td>\n",
       "      <td>1</td>\n",
       "      <td>1</td>\n",
       "      <td>1</td>\n",
       "    </tr>\n",
       "    <tr>\n",
       "      <th>voter_1</th>\n",
       "      <td>0</td>\n",
       "      <td>1</td>\n",
       "      <td>1</td>\n",
       "      <td>1</td>\n",
       "      <td>1</td>\n",
       "      <td>1</td>\n",
       "    </tr>\n",
       "    <tr>\n",
       "      <th>voter_2</th>\n",
       "      <td>0</td>\n",
       "      <td>0</td>\n",
       "      <td>1</td>\n",
       "      <td>1</td>\n",
       "      <td>1</td>\n",
       "      <td>1</td>\n",
       "    </tr>\n",
       "    <tr>\n",
       "      <th>voter_3</th>\n",
       "      <td>0</td>\n",
       "      <td>0</td>\n",
       "      <td>0</td>\n",
       "      <td>1</td>\n",
       "      <td>1</td>\n",
       "      <td>1</td>\n",
       "    </tr>\n",
       "    <tr>\n",
       "      <th>voter_4</th>\n",
       "      <td>0</td>\n",
       "      <td>0</td>\n",
       "      <td>0</td>\n",
       "      <td>0</td>\n",
       "      <td>1</td>\n",
       "      <td>1</td>\n",
       "    </tr>\n",
       "    <tr>\n",
       "      <th>voter_5</th>\n",
       "      <td>0</td>\n",
       "      <td>0</td>\n",
       "      <td>0</td>\n",
       "      <td>0</td>\n",
       "      <td>0</td>\n",
       "      <td>1</td>\n",
       "    </tr>\n",
       "  </tbody>\n",
       "</table>\n",
       "</div>"
      ],
      "text/plain": [
       "         red_1  red_2  blue_1  blue_2  yellow_1  yellow_2\n",
       "voter_0      1      1       1       1         1         1\n",
       "voter_1      0      1       1       1         1         1\n",
       "voter_2      0      0       1       1         1         1\n",
       "voter_3      0      0       0       1         1         1\n",
       "voter_4      0      0       0       0         1         1\n",
       "voter_5      0      0       0       0         0         1"
      ]
     },
     "execution_count": 3,
     "metadata": {},
     "output_type": "execute_result"
    }
   ],
   "source": [
    "example_voter_data"
   ]
  },
  {
   "cell_type": "markdown",
   "metadata": {},
   "source": [
    "## Context\n",
    "\n",
    "For this data set, the organization wants to create three groups: \n",
    "1. **Red:** Consisting of the `red` credentials (i.e. `red_1` and `red_2`)\n",
    "2. **Green:** Consisting of `blue` and `yellow` credentials, for users who hold ALL possible `blue` and `yellow` credentials. In other words, this group only counts if the account holds each of `blue_1`, `blue_2`, `yellow_1`, and `yellow_2`. \n",
    "3.  **Other:** This consists of everything else: `blue` and `yellow` credentials for users who do not qualify for **Green** status, i.e. do not hold all possible `blue` and `yellow` credentials. "
   ]
  },
  {
   "cell_type": "markdown",
   "metadata": {},
   "source": [
    "## Creating a new credential, based on a specific rule \n",
    "\n",
    "* For the scenario we have, it is easier to create a `green` credential and assign it to each voter who has all of `blue_1`, `blue_2`, `green_1`, and `green_2`. \n",
    "* For this purpose, we create a `NewCredentialRule`, that gives the precise conditions under which a voter qualifies as green. \n",
    "* We associate the `NewCredentialRule` with its name in a dictionary. "
   ]
  },
  {
   "cell_type": "code",
   "execution_count": 4,
   "metadata": {},
   "outputs": [],
   "source": [
    "def is_green_voter(voter_info: pd.Series):\n",
    "    is_green = int(voter_info[[\"blue_1\", \"blue_2\", \"yellow_1\", \"yellow_2\"]].all())\n",
    "    return is_green"
   ]
  },
  {
   "cell_type": "code",
   "execution_count": 5,
   "metadata": {},
   "outputs": [],
   "source": [
    "# Create two example voters: one green, one not. \n",
    "color_index = [col for col in example_voter_data.columns]\n",
    "not_green_voter = pd.Series([1, 0, 1, 0, 0, 1], index=color_index)\n",
    "green_voter = pd.Series([0,0,1,1,1,1], index=color_index)"
   ]
  },
  {
   "cell_type": "code",
   "execution_count": 6,
   "metadata": {},
   "outputs": [
    {
     "data": {
      "text/plain": [
       "0"
      ]
     },
     "execution_count": 6,
     "metadata": {},
     "output_type": "execute_result"
    }
   ],
   "source": [
    "is_green_voter(not_green_voter)"
   ]
  },
  {
   "cell_type": "code",
   "execution_count": 7,
   "metadata": {},
   "outputs": [
    {
     "data": {
      "text/plain": [
       "1"
      ]
     },
     "execution_count": 7,
     "metadata": {},
     "output_type": "execute_result"
    }
   ],
   "source": [
    "is_green_voter(green_voter)"
   ]
  },
  {
   "cell_type": "markdown",
   "metadata": {},
   "source": [
    "To use this in a `ReweightingMechanism`, we need to make sure that the `NewCredentialRule` is associated with a credential name. "
   ]
  },
  {
   "cell_type": "code",
   "execution_count": 8,
   "metadata": {},
   "outputs": [],
   "source": [
    "new_credential_rules = {\"green\": is_green_voter}"
   ]
  },
  {
   "cell_type": "markdown",
   "metadata": {},
   "source": [
    "## Creating a Group Rule\n",
    "\n",
    "Let's create a `GroupRule` for each group mentioned in the Scenario: **Red**, **Green**, and **Other**. "
   ]
  },
  {
   "cell_type": "markdown",
   "metadata": {},
   "source": [
    "### CReating The Group Rule for Red"
   ]
  },
  {
   "cell_type": "markdown",
   "metadata": {},
   "source": [
    "\n",
    "\n",
    "* For **Red**, any cell is eligible, so the `selection_rule` should simply return `True`. The `creds_to_sum` and `creds_to_reweight` consist of the same credentials: `red_1` and `red_2`. \n",
    "\n",
    "Here's what that looks like in Python code. "
   ]
  },
  {
   "cell_type": "code",
   "execution_count": 9,
   "metadata": {},
   "outputs": [],
   "source": [
    "red_group_rule = GroupRule(selection_rule= lambda account: True,\n",
    "                           credentials_to_sum=[\"red_1\",\"red_2\"],\n",
    "                           credentials_to_reweight=[\"red_1\",\"red_2\"])"
   ]
  },
  {
   "cell_type": "markdown",
   "metadata": {},
   "source": [
    "* For **Other**, the `selection_rule` should consider accounts that don't have the `green` credential. It should add up all of their `blue` and `yellow` credentials for the non-green accounts, then re-weight these credentials accordingly. Here's what that looks like in Python code.\n",
    "\n",
    "Notice that we are including `green` in `credentials_to_sum` to satisfy the *completely exhaustive* criterion, we know that it will not contribute anything to the total `cweight` since all `green` entries will be equal to 0. "
   ]
  },
  {
   "cell_type": "code",
   "execution_count": 10,
   "metadata": {},
   "outputs": [],
   "source": [
    "other_group_rule = GroupRule(selection_rule = lambda account: not account[\"green\"],\n",
    "                            credentials_to_sum = [\"yellow_1\", \"yellow_2\", \"blue_1\", \"blue_2\", \"green\"],\n",
    "                            credentials_to_reweight= [\"yellow_1\", \"yellow_2\", \"blue_1\", \"blue_2\"])"
   ]
  },
  {
   "cell_type": "markdown",
   "metadata": {},
   "source": [
    "* For **Green**, the `selection_rule` should consider accounts that do have the . It should add up all of their `blue` and `yellow` credentials for the non-green accounts, then re-weight these credentials accordingly. Here's what that looks like in Python code. "
   ]
  },
  {
   "cell_type": "code",
   "execution_count": 11,
   "metadata": {},
   "outputs": [],
   "source": [
    "\n",
    "green_group_rule = GroupRule(selection_rule = lambda account: account[\"green\"],\n",
    "                            credentials_to_sum = [\"yellow_1\", \"yellow_2\", \"blue_1\", \"blue_2\", \"green\"],\n",
    "                            credentials_to_reweight= [\"green\"])\n"
   ]
  },
  {
   "cell_type": "markdown",
   "metadata": {},
   "source": [
    "To use these rules, we can put them in a `GroupRulesDict` that associates each rule with a group name. "
   ]
  },
  {
   "cell_type": "code",
   "execution_count": 12,
   "metadata": {},
   "outputs": [],
   "source": [
    "color_group_rules = {\"red\": red_group_rule, \n",
    "               \"other\": other_group_rule,\n",
    "               \"green\": green_group_rule}"
   ]
  },
  {
   "cell_type": "markdown",
   "metadata": {},
   "source": [
    "## Setting Initial Weights for Credentials\n",
    "\n",
    "Initial weights for credentials need to be set by a human decision-maker. Reweighting Mechanisms generally respect the proportional relationships established within the initial weights. "
   ]
  },
  {
   "cell_type": "code",
   "execution_count": 13,
   "metadata": {},
   "outputs": [],
   "source": [
    "initial_credential_weights = {\"red_1\": 5.0, \n",
    "                             \"red_2\": 10.0, \n",
    "                             \"blue_1\": 1.0, \n",
    "                             \"blue_2\": 2.0, \n",
    "                             \"yellow_1\": 1.0,\n",
    "                             \"yellow_2\": 3.0,\n",
    "                             \"green\": 2.0}"
   ]
  },
  {
   "cell_type": "markdown",
   "metadata": {},
   "source": [
    "## Creating a `ReweightingMechanism` object\n"
   ]
  },
  {
   "cell_type": "code",
   "execution_count": 14,
   "metadata": {},
   "outputs": [],
   "source": [
    "rm = ReweightingMechanism(initial_voter_data = example_voter_data,\n",
    "                          new_credentials = new_credential_rules,\n",
    "                          group_rules = color_group_rules,\n",
    "                          initial_credential_weights = initial_credential_weights)"
   ]
  },
  {
   "cell_type": "markdown",
   "metadata": {},
   "source": [
    "### Updating Voter Data to Reflect New Credentials \n",
    "\n",
    "The `initial_voter_data` DataFrame will not have the new credentials that are being created. For instance, `toy_dataframe` above does not have a `green` column, since this credential will be created. \n",
    "\n",
    "In the process of constructing the `ReweightingMechanism` object, a `current_voter_data` attribute is created. This `current_voter_data` contains the data from `initial_voter_data`, as well as any new credentials created from a `NewCredentialRule`. "
   ]
  },
  {
   "cell_type": "code",
   "execution_count": 15,
   "metadata": {},
   "outputs": [
    {
     "data": {
      "text/html": [
       "<div>\n",
       "<style scoped>\n",
       "    .dataframe tbody tr th:only-of-type {\n",
       "        vertical-align: middle;\n",
       "    }\n",
       "\n",
       "    .dataframe tbody tr th {\n",
       "        vertical-align: top;\n",
       "    }\n",
       "\n",
       "    .dataframe thead th {\n",
       "        text-align: right;\n",
       "    }\n",
       "</style>\n",
       "<table border=\"1\" class=\"dataframe\">\n",
       "  <thead>\n",
       "    <tr style=\"text-align: right;\">\n",
       "      <th></th>\n",
       "      <th>red_1</th>\n",
       "      <th>red_2</th>\n",
       "      <th>blue_1</th>\n",
       "      <th>blue_2</th>\n",
       "      <th>yellow_1</th>\n",
       "      <th>yellow_2</th>\n",
       "      <th>green</th>\n",
       "    </tr>\n",
       "  </thead>\n",
       "  <tbody>\n",
       "    <tr>\n",
       "      <th>voter_0</th>\n",
       "      <td>1</td>\n",
       "      <td>1</td>\n",
       "      <td>1</td>\n",
       "      <td>1</td>\n",
       "      <td>1</td>\n",
       "      <td>1</td>\n",
       "      <td>1</td>\n",
       "    </tr>\n",
       "    <tr>\n",
       "      <th>voter_1</th>\n",
       "      <td>0</td>\n",
       "      <td>1</td>\n",
       "      <td>1</td>\n",
       "      <td>1</td>\n",
       "      <td>1</td>\n",
       "      <td>1</td>\n",
       "      <td>1</td>\n",
       "    </tr>\n",
       "    <tr>\n",
       "      <th>voter_2</th>\n",
       "      <td>0</td>\n",
       "      <td>0</td>\n",
       "      <td>1</td>\n",
       "      <td>1</td>\n",
       "      <td>1</td>\n",
       "      <td>1</td>\n",
       "      <td>1</td>\n",
       "    </tr>\n",
       "    <tr>\n",
       "      <th>voter_3</th>\n",
       "      <td>0</td>\n",
       "      <td>0</td>\n",
       "      <td>0</td>\n",
       "      <td>1</td>\n",
       "      <td>1</td>\n",
       "      <td>1</td>\n",
       "      <td>0</td>\n",
       "    </tr>\n",
       "    <tr>\n",
       "      <th>voter_4</th>\n",
       "      <td>0</td>\n",
       "      <td>0</td>\n",
       "      <td>0</td>\n",
       "      <td>0</td>\n",
       "      <td>1</td>\n",
       "      <td>1</td>\n",
       "      <td>0</td>\n",
       "    </tr>\n",
       "    <tr>\n",
       "      <th>voter_5</th>\n",
       "      <td>0</td>\n",
       "      <td>0</td>\n",
       "      <td>0</td>\n",
       "      <td>0</td>\n",
       "      <td>0</td>\n",
       "      <td>1</td>\n",
       "      <td>0</td>\n",
       "    </tr>\n",
       "  </tbody>\n",
       "</table>\n",
       "</div>"
      ],
      "text/plain": [
       "         red_1  red_2  blue_1  blue_2  yellow_1  yellow_2  green\n",
       "voter_0      1      1       1       1         1         1      1\n",
       "voter_1      0      1       1       1         1         1      1\n",
       "voter_2      0      0       1       1         1         1      1\n",
       "voter_3      0      0       0       1         1         1      0\n",
       "voter_4      0      0       0       0         1         1      0\n",
       "voter_5      0      0       0       0         0         1      0"
      ]
     },
     "execution_count": 15,
     "metadata": {},
     "output_type": "execute_result"
    }
   ],
   "source": [
    "rm.current_voter_data"
   ]
  },
  {
   "cell_type": "markdown",
   "metadata": {},
   "source": [
    "## Creating Group Masks\n",
    "\n",
    "**Group Masks** are used to partition the entries in a `VoterData` object, so that only the entries for each group are used for that group's calculations.\n",
    "Technically, a group mask is a `DataFrame` that consists only of 0's and 1's. Each group name is associated to a group mask in a `GroupMaskDict` object. \n",
    "\n",
    "This information is stored in the `group_masks` attribute of the `ReweightingMechanism`. "
   ]
  },
  {
   "cell_type": "code",
   "execution_count": 16,
   "metadata": {},
   "outputs": [
    {
     "data": {
      "text/html": [
       "<div>\n",
       "<style scoped>\n",
       "    .dataframe tbody tr th:only-of-type {\n",
       "        vertical-align: middle;\n",
       "    }\n",
       "\n",
       "    .dataframe tbody tr th {\n",
       "        vertical-align: top;\n",
       "    }\n",
       "\n",
       "    .dataframe thead th {\n",
       "        text-align: right;\n",
       "    }\n",
       "</style>\n",
       "<table border=\"1\" class=\"dataframe\">\n",
       "  <thead>\n",
       "    <tr style=\"text-align: right;\">\n",
       "      <th></th>\n",
       "      <th>red_1</th>\n",
       "      <th>red_2</th>\n",
       "      <th>blue_1</th>\n",
       "      <th>blue_2</th>\n",
       "      <th>yellow_1</th>\n",
       "      <th>yellow_2</th>\n",
       "      <th>green</th>\n",
       "    </tr>\n",
       "  </thead>\n",
       "  <tbody>\n",
       "    <tr>\n",
       "      <th>voter_0</th>\n",
       "      <td>1</td>\n",
       "      <td>1</td>\n",
       "      <td>0</td>\n",
       "      <td>0</td>\n",
       "      <td>0</td>\n",
       "      <td>0</td>\n",
       "      <td>0</td>\n",
       "    </tr>\n",
       "    <tr>\n",
       "      <th>voter_1</th>\n",
       "      <td>1</td>\n",
       "      <td>1</td>\n",
       "      <td>0</td>\n",
       "      <td>0</td>\n",
       "      <td>0</td>\n",
       "      <td>0</td>\n",
       "      <td>0</td>\n",
       "    </tr>\n",
       "    <tr>\n",
       "      <th>voter_2</th>\n",
       "      <td>1</td>\n",
       "      <td>1</td>\n",
       "      <td>0</td>\n",
       "      <td>0</td>\n",
       "      <td>0</td>\n",
       "      <td>0</td>\n",
       "      <td>0</td>\n",
       "    </tr>\n",
       "    <tr>\n",
       "      <th>voter_3</th>\n",
       "      <td>1</td>\n",
       "      <td>1</td>\n",
       "      <td>0</td>\n",
       "      <td>0</td>\n",
       "      <td>0</td>\n",
       "      <td>0</td>\n",
       "      <td>0</td>\n",
       "    </tr>\n",
       "    <tr>\n",
       "      <th>voter_4</th>\n",
       "      <td>1</td>\n",
       "      <td>1</td>\n",
       "      <td>0</td>\n",
       "      <td>0</td>\n",
       "      <td>0</td>\n",
       "      <td>0</td>\n",
       "      <td>0</td>\n",
       "    </tr>\n",
       "    <tr>\n",
       "      <th>voter_5</th>\n",
       "      <td>1</td>\n",
       "      <td>1</td>\n",
       "      <td>0</td>\n",
       "      <td>0</td>\n",
       "      <td>0</td>\n",
       "      <td>0</td>\n",
       "      <td>0</td>\n",
       "    </tr>\n",
       "  </tbody>\n",
       "</table>\n",
       "</div>"
      ],
      "text/plain": [
       "         red_1  red_2  blue_1  blue_2  yellow_1  yellow_2  green\n",
       "voter_0      1      1       0       0         0         0      0\n",
       "voter_1      1      1       0       0         0         0      0\n",
       "voter_2      1      1       0       0         0         0      0\n",
       "voter_3      1      1       0       0         0         0      0\n",
       "voter_4      1      1       0       0         0         0      0\n",
       "voter_5      1      1       0       0         0         0      0"
      ]
     },
     "execution_count": 16,
     "metadata": {},
     "output_type": "execute_result"
    }
   ],
   "source": [
    "group_masks = rm.group_masks\n",
    "group_masks.get(\"red\")"
   ]
  },
  {
   "cell_type": "code",
   "execution_count": 17,
   "metadata": {},
   "outputs": [
    {
     "data": {
      "text/html": [
       "<div>\n",
       "<style scoped>\n",
       "    .dataframe tbody tr th:only-of-type {\n",
       "        vertical-align: middle;\n",
       "    }\n",
       "\n",
       "    .dataframe tbody tr th {\n",
       "        vertical-align: top;\n",
       "    }\n",
       "\n",
       "    .dataframe thead th {\n",
       "        text-align: right;\n",
       "    }\n",
       "</style>\n",
       "<table border=\"1\" class=\"dataframe\">\n",
       "  <thead>\n",
       "    <tr style=\"text-align: right;\">\n",
       "      <th></th>\n",
       "      <th>red_1</th>\n",
       "      <th>red_2</th>\n",
       "      <th>blue_1</th>\n",
       "      <th>blue_2</th>\n",
       "      <th>yellow_1</th>\n",
       "      <th>yellow_2</th>\n",
       "      <th>green</th>\n",
       "    </tr>\n",
       "  </thead>\n",
       "  <tbody>\n",
       "    <tr>\n",
       "      <th>voter_0</th>\n",
       "      <td>0</td>\n",
       "      <td>0</td>\n",
       "      <td>1</td>\n",
       "      <td>1</td>\n",
       "      <td>1</td>\n",
       "      <td>1</td>\n",
       "      <td>1</td>\n",
       "    </tr>\n",
       "    <tr>\n",
       "      <th>voter_1</th>\n",
       "      <td>0</td>\n",
       "      <td>0</td>\n",
       "      <td>1</td>\n",
       "      <td>1</td>\n",
       "      <td>1</td>\n",
       "      <td>1</td>\n",
       "      <td>1</td>\n",
       "    </tr>\n",
       "    <tr>\n",
       "      <th>voter_2</th>\n",
       "      <td>0</td>\n",
       "      <td>0</td>\n",
       "      <td>1</td>\n",
       "      <td>1</td>\n",
       "      <td>1</td>\n",
       "      <td>1</td>\n",
       "      <td>1</td>\n",
       "    </tr>\n",
       "    <tr>\n",
       "      <th>voter_3</th>\n",
       "      <td>0</td>\n",
       "      <td>0</td>\n",
       "      <td>0</td>\n",
       "      <td>0</td>\n",
       "      <td>0</td>\n",
       "      <td>0</td>\n",
       "      <td>0</td>\n",
       "    </tr>\n",
       "    <tr>\n",
       "      <th>voter_4</th>\n",
       "      <td>0</td>\n",
       "      <td>0</td>\n",
       "      <td>0</td>\n",
       "      <td>0</td>\n",
       "      <td>0</td>\n",
       "      <td>0</td>\n",
       "      <td>0</td>\n",
       "    </tr>\n",
       "    <tr>\n",
       "      <th>voter_5</th>\n",
       "      <td>0</td>\n",
       "      <td>0</td>\n",
       "      <td>0</td>\n",
       "      <td>0</td>\n",
       "      <td>0</td>\n",
       "      <td>0</td>\n",
       "      <td>0</td>\n",
       "    </tr>\n",
       "  </tbody>\n",
       "</table>\n",
       "</div>"
      ],
      "text/plain": [
       "         red_1  red_2  blue_1  blue_2  yellow_1  yellow_2  green\n",
       "voter_0      0      0       1       1         1         1      1\n",
       "voter_1      0      0       1       1         1         1      1\n",
       "voter_2      0      0       1       1         1         1      1\n",
       "voter_3      0      0       0       0         0         0      0\n",
       "voter_4      0      0       0       0         0         0      0\n",
       "voter_5      0      0       0       0         0         0      0"
      ]
     },
     "execution_count": 17,
     "metadata": {},
     "output_type": "execute_result"
    }
   ],
   "source": [
    "group_masks.get(\"green\")"
   ]
  },
  {
   "cell_type": "code",
   "execution_count": 18,
   "metadata": {},
   "outputs": [
    {
     "data": {
      "text/html": [
       "<div>\n",
       "<style scoped>\n",
       "    .dataframe tbody tr th:only-of-type {\n",
       "        vertical-align: middle;\n",
       "    }\n",
       "\n",
       "    .dataframe tbody tr th {\n",
       "        vertical-align: top;\n",
       "    }\n",
       "\n",
       "    .dataframe thead th {\n",
       "        text-align: right;\n",
       "    }\n",
       "</style>\n",
       "<table border=\"1\" class=\"dataframe\">\n",
       "  <thead>\n",
       "    <tr style=\"text-align: right;\">\n",
       "      <th></th>\n",
       "      <th>red_1</th>\n",
       "      <th>red_2</th>\n",
       "      <th>blue_1</th>\n",
       "      <th>blue_2</th>\n",
       "      <th>yellow_1</th>\n",
       "      <th>yellow_2</th>\n",
       "      <th>green</th>\n",
       "    </tr>\n",
       "  </thead>\n",
       "  <tbody>\n",
       "    <tr>\n",
       "      <th>voter_0</th>\n",
       "      <td>0</td>\n",
       "      <td>0</td>\n",
       "      <td>0</td>\n",
       "      <td>0</td>\n",
       "      <td>0</td>\n",
       "      <td>0</td>\n",
       "      <td>0</td>\n",
       "    </tr>\n",
       "    <tr>\n",
       "      <th>voter_1</th>\n",
       "      <td>0</td>\n",
       "      <td>0</td>\n",
       "      <td>0</td>\n",
       "      <td>0</td>\n",
       "      <td>0</td>\n",
       "      <td>0</td>\n",
       "      <td>0</td>\n",
       "    </tr>\n",
       "    <tr>\n",
       "      <th>voter_2</th>\n",
       "      <td>0</td>\n",
       "      <td>0</td>\n",
       "      <td>0</td>\n",
       "      <td>0</td>\n",
       "      <td>0</td>\n",
       "      <td>0</td>\n",
       "      <td>0</td>\n",
       "    </tr>\n",
       "    <tr>\n",
       "      <th>voter_3</th>\n",
       "      <td>0</td>\n",
       "      <td>0</td>\n",
       "      <td>1</td>\n",
       "      <td>1</td>\n",
       "      <td>1</td>\n",
       "      <td>1</td>\n",
       "      <td>1</td>\n",
       "    </tr>\n",
       "    <tr>\n",
       "      <th>voter_4</th>\n",
       "      <td>0</td>\n",
       "      <td>0</td>\n",
       "      <td>1</td>\n",
       "      <td>1</td>\n",
       "      <td>1</td>\n",
       "      <td>1</td>\n",
       "      <td>1</td>\n",
       "    </tr>\n",
       "    <tr>\n",
       "      <th>voter_5</th>\n",
       "      <td>0</td>\n",
       "      <td>0</td>\n",
       "      <td>1</td>\n",
       "      <td>1</td>\n",
       "      <td>1</td>\n",
       "      <td>1</td>\n",
       "      <td>1</td>\n",
       "    </tr>\n",
       "  </tbody>\n",
       "</table>\n",
       "</div>"
      ],
      "text/plain": [
       "         red_1  red_2  blue_1  blue_2  yellow_1  yellow_2  green\n",
       "voter_0      0      0       0       0         0         0      0\n",
       "voter_1      0      0       0       0         0         0      0\n",
       "voter_2      0      0       0       0         0         0      0\n",
       "voter_3      0      0       1       1         1         1      1\n",
       "voter_4      0      0       1       1         1         1      1\n",
       "voter_5      0      0       1       1         1         1      1"
      ]
     },
     "execution_count": 18,
     "metadata": {},
     "output_type": "execute_result"
    }
   ],
   "source": [
    "group_masks.get(\"other\")"
   ]
  },
  {
   "cell_type": "code",
   "execution_count": 19,
   "metadata": {},
   "outputs": [
    {
     "data": {
      "text/plain": [
       "True"
      ]
     },
     "execution_count": 19,
     "metadata": {},
     "output_type": "execute_result"
    }
   ],
   "source": [
    "rm.check_valid_masks(voter_data = rm.current_voter_data,\n",
    "                     group_masks = rm.group_masks)"
   ]
  },
  {
   "cell_type": "markdown",
   "metadata": {},
   "source": [
    "### Creating Current Credential Weights\n",
    "\n",
    "Each instance of `ReweightingMechanism` has an attribute called `current_credential_weights`, which tracks the weight of each credential. \n",
    "\n",
    "Initially, current credential weights are set to be initial credential weights.\n",
    "The `update_all_current_credential_weights` method changes the `current_credential_weights`. This method is simply a placeholder in `ReweightingMechanism`, and any subclass must implement its own version. "
   ]
  },
  {
   "cell_type": "markdown",
   "metadata": {},
   "source": [
    "**Important Note:** When creating the `group_rules`, the order of the rules **does** matter. \n",
    "Each credential's weight will only be updated once when calling the mechanism's `update_all_current_credential_weights` method. \n",
    "This method needs to be implemented for each subclass. "
   ]
  },
  {
   "cell_type": "markdown",
   "metadata": {},
   "source": [
    "## Proportional Reweighting Mechanism\n",
    "\n",
    "The `ProportionalReweightingMechanism` class, found in `mechanisms.proportional_reweighting`, extends the `ReweightingMechanism` class to focus on achieving specific proportions in terms of group cweight.\n",
    "\n",
    "For instance, in our example, we might want to specify that the `red` credentials account for 50% of total voting weight, while `green` accounts for 35%, and `other` accounts for 15%. We can specify this by creating a `group_proportions` dictionary, which is passed as an argument into the `ProportionalReweightingMechanism` constructor. "
   ]
  },
  {
   "cell_type": "code",
   "execution_count": 20,
   "metadata": {},
   "outputs": [],
   "source": [
    "# Define group proportions\n",
    "\n",
    "example_group_proportions = {\"red\": 0.5, \n",
    "                    \"green\": 0.35,\n",
    "                     \"other\": 0.15}"
   ]
  },
  {
   "cell_type": "code",
   "execution_count": 21,
   "metadata": {},
   "outputs": [],
   "source": [
    "# Define a ProportionalReweightingMechanism\n",
    "\n",
    "prm = ProportionalReweightingMechanism(initial_voter_data = example_voter_data,\n",
    "                                       new_credentials = new_credential_rules,\n",
    "                                       group_rules = color_group_rules,\n",
    "                                       initial_credential_weights = initial_credential_weights,\n",
    "                                       group_proportions = example_group_proportions\n",
    "                                       )"
   ]
  },
  {
   "cell_type": "markdown",
   "metadata": {},
   "source": [
    "In addition to `modified_voter_data` and `group_masks`. "
   ]
  },
  {
   "cell_type": "code",
   "execution_count": 22,
   "metadata": {},
   "outputs": [
    {
     "data": {
      "text/plain": [
       "{'red': 43.333333333333336, 'green': 30.333333333333336, 'other': 13.0}"
      ]
     },
     "execution_count": 22,
     "metadata": {},
     "output_type": "execute_result"
    }
   ],
   "source": [
    "prm.target_cweights"
   ]
  },
  {
   "cell_type": "code",
   "execution_count": 23,
   "metadata": {},
   "outputs": [
    {
     "data": {
      "text/plain": [
       "{'red': 25.0, 'other': 13.0, 'green': 27.0}"
      ]
     },
     "execution_count": 23,
     "metadata": {},
     "output_type": "execute_result"
    }
   ],
   "source": [
    "initial_cweights = prm.calc_all_group_cweights()\n",
    "initial_cweights"
   ]
  },
  {
   "cell_type": "code",
   "execution_count": 24,
   "metadata": {},
   "outputs": [
    {
     "data": {
      "text/plain": [
       "{'red_1': 5.0,\n",
       " 'red_2': 10.0,\n",
       " 'blue_1': 1.0,\n",
       " 'blue_2': 2.0,\n",
       " 'yellow_1': 1.0,\n",
       " 'yellow_2': 3.0,\n",
       " 'green': 2.0}"
      ]
     },
     "execution_count": 24,
     "metadata": {},
     "output_type": "execute_result"
    }
   ],
   "source": [
    "prm.current_credential_weights"
   ]
  },
  {
   "cell_type": "code",
   "execution_count": 25,
   "metadata": {},
   "outputs": [
    {
     "data": {
      "text/plain": [
       "(True,\n",
       " {'red_1': 8.666666666666668,\n",
       "  'red_2': 17.333333333333336,\n",
       "  'blue_1': 1.0,\n",
       "  'blue_2': 2.0,\n",
       "  'yellow_1': 1.0,\n",
       "  'yellow_2': 3.0,\n",
       "  'green': 3.111111111111112})"
      ]
     },
     "execution_count": 25,
     "metadata": {},
     "output_type": "execute_result"
    }
   ],
   "source": [
    "prm.update_all_current_credential_weights()"
   ]
  },
  {
   "cell_type": "code",
   "execution_count": 26,
   "metadata": {},
   "outputs": [
    {
     "data": {
      "text/plain": [
       "{'red': 43.33333333333334, 'other': 13.0, 'green': 30.333333333333336}"
      ]
     },
     "execution_count": 26,
     "metadata": {},
     "output_type": "execute_result"
    }
   ],
   "source": [
    "final_cweights = prm.calc_all_group_cweights()\n",
    "final_cweights"
   ]
  },
  {
   "cell_type": "markdown",
   "metadata": {},
   "source": [
    "## Finding Voter Weights\n",
    "\n",
    "We can calculate weights of a single voter, a group of voters, or all voters. "
   ]
  },
  {
   "cell_type": "code",
   "execution_count": 27,
   "metadata": {},
   "outputs": [
    {
     "data": {
      "text/plain": [
       "27.444444444444446"
      ]
     },
     "execution_count": 27,
     "metadata": {},
     "output_type": "execute_result"
    }
   ],
   "source": [
    "voter_1_weight = prm.calc_individual_voter_weight(voter_data_to_use = prm.current_voter_data, \n",
    "                                 weights_to_use = prm.current_credential_weights,\n",
    "                                 voter = \"voter_1\")\n",
    "voter_1_weight"
   ]
  },
  {
   "cell_type": "code",
   "execution_count": 35,
   "metadata": {},
   "outputs": [
    {
     "data": {
      "text/plain": [
       "{'voter_1': {'weight': 27.444444444444446}, 'voter_3': {'weight': 6.0}}"
      ]
     },
     "execution_count": 35,
     "metadata": {},
     "output_type": "execute_result"
    }
   ],
   "source": [
    "voter_group = [\"voter_1\",\"voter_3\"]\n",
    "prm.calc_voter_weights(voter_group)"
   ]
  },
  {
   "cell_type": "code",
   "execution_count": 28,
   "metadata": {},
   "outputs": [
    {
     "data": {
      "text/plain": [
       "{'voter_0': {'weight': 36.111111111111114},\n",
       " 'voter_1': {'weight': 27.444444444444446},\n",
       " 'voter_2': {'weight': 10.111111111111112},\n",
       " 'voter_3': {'weight': 6.0},\n",
       " 'voter_4': {'weight': 4.0},\n",
       " 'voter_5': {'weight': 3.0}}"
      ]
     },
     "execution_count": 28,
     "metadata": {},
     "output_type": "execute_result"
    }
   ],
   "source": [
    "voter_weights = prm.calc_all_voter_weights()\n",
    "voter_weights"
   ]
  },
  {
   "cell_type": "markdown",
   "metadata": {},
   "source": [
    "## Ordered Weighting Mechanism\n",
    "\n",
    "The `OrderedReweightingMechanism` class, found in `mechanisms.ordered_reweighting` extends `ReweightingMechanism`. \n",
    "An instance of `OrderedWeightingMechanism` must have `group_order`, a list which should contain every group name exactly once. \n",
    "When the `update_all_current_credentials` method is called, credentials are re-weighted so that group weights are in non-decreasing order, starting with the first group in the list. "
   ]
  },
  {
   "cell_type": "code",
   "execution_count": 29,
   "metadata": {},
   "outputs": [],
   "source": [
    "example_group_order = [\"other\", \"green\", \"red\"]\n",
    "\n",
    "orm = OrderedReweightingMechanism(initial_voter_data = example_voter_data,\n",
    "                                       new_credentials = new_credential_rules,\n",
    "                                       group_rules = color_group_rules,\n",
    "                                       initial_credential_weights = initial_credential_weights,\n",
    "                                       group_order= example_group_order \n",
    "                                       )"
   ]
  },
  {
   "cell_type": "code",
   "execution_count": 30,
   "metadata": {},
   "outputs": [
    {
     "data": {
      "text/plain": [
       "{'red': 25.0, 'other': 13.0, 'green': 27.0}"
      ]
     },
     "execution_count": 30,
     "metadata": {},
     "output_type": "execute_result"
    }
   ],
   "source": [
    "orm.calc_all_group_cweights()"
   ]
  },
  {
   "cell_type": "code",
   "execution_count": 31,
   "metadata": {},
   "outputs": [
    {
     "data": {
      "text/plain": [
       "{'other': 13.0, 'green': 27.0, 'red': 27.0}"
      ]
     },
     "execution_count": 31,
     "metadata": {},
     "output_type": "execute_result"
    }
   ],
   "source": [
    "orm.target_cweights"
   ]
  },
  {
   "cell_type": "code",
   "execution_count": 32,
   "metadata": {},
   "outputs": [
    {
     "data": {
      "text/plain": [
       "(True,\n",
       " {'red_1': 5.4,\n",
       "  'red_2': 10.8,\n",
       "  'blue_1': 1.0,\n",
       "  'blue_2': 2.0,\n",
       "  'yellow_1': 1.0,\n",
       "  'yellow_2': 3.0,\n",
       "  'green': 2.0})"
      ]
     },
     "execution_count": 32,
     "metadata": {},
     "output_type": "execute_result"
    }
   ],
   "source": [
    "orm.update_all_current_credential_weights()"
   ]
  },
  {
   "cell_type": "code",
   "execution_count": 33,
   "metadata": {},
   "outputs": [
    {
     "data": {
      "text/plain": [
       "{'red_1': 5.4,\n",
       " 'red_2': 10.8,\n",
       " 'blue_1': 1.0,\n",
       " 'blue_2': 2.0,\n",
       " 'yellow_1': 1.0,\n",
       " 'yellow_2': 3.0,\n",
       " 'green': 2.0}"
      ]
     },
     "execution_count": 33,
     "metadata": {},
     "output_type": "execute_result"
    }
   ],
   "source": [
    "orm.current_credential_weights"
   ]
  },
  {
   "cell_type": "code",
   "execution_count": 34,
   "metadata": {},
   "outputs": [
    {
     "data": {
      "text/plain": [
       "{'red': 27.0, 'other': 13.0, 'green': 27.0}"
      ]
     },
     "execution_count": 34,
     "metadata": {},
     "output_type": "execute_result"
    }
   ],
   "source": [
    "orm.calc_all_group_cweights()"
   ]
  },
  {
   "cell_type": "code",
   "execution_count": null,
   "metadata": {},
   "outputs": [],
   "source": []
  }
 ],
 "metadata": {
  "kernelspec": {
   "display_name": "Python 3",
   "language": "python",
   "name": "python3"
  },
  "language_info": {
   "codemirror_mode": {
    "name": "ipython",
    "version": 3
   },
   "file_extension": ".py",
   "mimetype": "text/x-python",
   "name": "python",
   "nbconvert_exporter": "python",
   "pygments_lexer": "ipython3",
   "version": "3.10.11"
  }
 },
 "nbformat": 4,
 "nbformat_minor": 2
}
