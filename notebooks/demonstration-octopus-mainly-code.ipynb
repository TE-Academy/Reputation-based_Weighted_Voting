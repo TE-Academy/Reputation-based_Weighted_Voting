{
 "cells": [
  {
   "cell_type": "markdown",
   "metadata": {},
   "source": [
    "# Demonstration of Dynamic Network Weight Scaling Mechanism"
   ]
  },
  {
   "cell_type": "markdown",
   "metadata": {},
   "source": [
    "## Basic Imports"
   ]
  },
  {
   "cell_type": "code",
   "execution_count": 31,
   "metadata": {},
   "outputs": [],
   "source": [
    "\n",
    "import matplotlib.pyplot as plt\n",
    "import numpy as np\n",
    "import pandas as pd\n",
    "from typing import Dict\n",
    "\n",
    "from ipywidgets import FloatText, HTML, Button, HBox, VBox\n",
    "\n",
    "import sys\n",
    "sys.path.append(\"..\")"
   ]
  },
  {
   "cell_type": "markdown",
   "metadata": {},
   "source": [
    "## Our Code Imports"
   ]
  },
  {
   "cell_type": "code",
   "execution_count": null,
   "metadata": {},
   "outputs": [],
   "source": [
    "from mechanisms.percentage_allocation_weighted_plurality import PercentageAllocationWeightedPlurality\n",
    "from mechanisms.simple_weighting_mechanism import SimpleCredentialWeightingMechanism\n",
    "\n",
    "from metrics.plutocracy import calc_nakamoto_coefficient_additive\n",
    "\n",
    "from utils.conversion import voter_cred_df_to_dict"
   ]
  },
  {
   "cell_type": "markdown",
   "metadata": {},
   "source": [
    "## Background\n",
    "\n",
    "* There are three *groups* of NFTS: Red, Blue, and Yellow.\n",
    "* Within each group, there are two different types of NFTs, numbered 1 and 2. So there are $RED_1$, $RED_2$, $BLUE_1$, etc. \n",
    "* Each eligible voter holds at least one of these NFTs. \n",
    "* Overall, Red NFTs are rarest and represent the most value. Comparatively, Blue and Yellow NFTs are easier to get. \n",
    "* However, there is no requirement that the two types of NFTs within a given \n",
    "* The *cweight* of an individual credential is defined to be \n",
    "$cweight = \\text{Number of Credential Holders} \\times \\text{Credential Weight}$.\n",
    "* The *cweight* of a group of NFTs is just the sum of the *cweight* of each individual credential. \n",
    "* **Fundamental Property:** For this example, the cweights should satisfy:\n",
    "$$ Red cweight \\geq Blue cweight = Yellow cweight.$$ This reflects the greater insight of Red NFT holders in the community. "
   ]
  },
  {
   "cell_type": "markdown",
   "metadata": {},
   "source": [
    "## Accessing Credential Information\n",
    "\n",
    "### Background \n",
    "To begin, we need data about the voters and their credentials (e.g. NFTs and tokens). \n",
    "\n",
    "This is input in the form of a .csv file with\n",
    "* a column called `voter` that contains voter IDs (e.g. wallet addresses)\n",
    "*  columns are **RED**, **BLUE**, and **YELLOW** \n",
    "* each entry is either 1 or 0, corresponding to ownership or non-ownership of the particular NFT. \n",
    "\n",
    "### Mechanics \n",
    "1. Make sure that this .ipynb file is in the same directory as the voter data. \n",
    "2. To use your own data, change the value of `VOTER_INFO_FILE` from `default_voter_data.csv` to the string of your own filename. "
   ]
  },
  {
   "cell_type": "code",
   "execution_count": 2,
   "metadata": {},
   "outputs": [],
   "source": [
    "# Code to read in a file \n",
    "# Change this line to change voter credential data. \n",
    "VOTER_INFO_FILE = \"data/default_voter_data.csv\""
   ]
  },
  {
   "cell_type": "code",
   "execution_count": 3,
   "metadata": {},
   "outputs": [],
   "source": [
    "# Read Initial Data From csv file\n",
    "voter_cred_df = pd.read_csv(VOTER_INFO_FILE,\n",
    "                             index_col = 'voter')"
   ]
  },
  {
   "cell_type": "code",
   "execution_count": 4,
   "metadata": {},
   "outputs": [],
   "source": [
    "voter_cred_dict = voter_cred_df_to_dict(voter_cred_df)"
   ]
  },
  {
   "cell_type": "markdown",
   "metadata": {},
   "source": [
    "## Assigning Initial Weights\n",
    "\n",
    "One way to get started is to assign some initial weights to get the process started, to indicate domain expert knowledge of relative importance. \n",
    "\n",
    "By default, all weights are set equal to 1.0. To change this, type new values in the textbox. \n",
    "\n",
    "**NOTE:** The re-weighting will respect the initialrelative weights assigned within groups. For instance, if the initial weight of `red_1` is 3.0 and the initial weight of `red_2` is 2.0, the final weights will also have the ratio `red_1/red_2 = 1.5`. "
   ]
  },
  {
   "cell_type": "code",
   "execution_count": 5,
   "metadata": {},
   "outputs": [
    {
     "data": {
      "application/vnd.jupyter.widget-view+json": {
       "model_id": "3c404f0d077b4deab1d7366fdd45fd25",
       "version_major": 2,
       "version_minor": 0
      },
      "text/plain": [
       "VBox(children=(HTML(value='<h2> Assign Initial Weights Below </h2>'), HBox(children=(VBox(children=(FloatText(…"
      ]
     },
     "metadata": {},
     "output_type": "display_data"
    }
   ],
   "source": [
    "\n",
    "total_weight = 0\n",
    "\n",
    "weights = {}\n",
    "weights[\"red_1\"] = FloatText(description='red_1', value=1.0, layout={'width': '200px'})\n",
    "weights[\"blue_1\"] = FloatText(description='blue_1', value=1.0, layout={'width': '200px'})\n",
    "weights[\"yellow_1\"] = FloatText(description='yellow_1', value=1.0, layout={'width': '200px'})\n",
    "weights[\"red_2\"] = FloatText(description='red_2', value=1.0, layout={'width': '200px'})\n",
    "weights[\"blue_2\"] = FloatText(description='blue_2', value=1.0, layout={'width': '200px'})\n",
    "weights[\"yellow_2\"] = FloatText(description='yellow_2', value=1.0, layout={'width': '200px'})\n",
    "total_weight_widget = HTML(value=f\"Total weight: {total_weight}\")\n",
    "\n",
    "\n",
    "\n",
    "def update_total_weight(b):\n",
    "    total_weight = sum(weight.value for weight in weights.values())\n",
    "    total_weight_widget.value = f\"Total weight: {total_weight}\"\n",
    "\n",
    "# Add a title for the widget box\n",
    "title_widget = HTML(value=\"<h2> Assign Initial Weights Below </h2>\")\n",
    "\n",
    "# Create two columns for weights\n",
    "weights_column_1 = VBox([weights[\"red_1\"], weights[\"blue_1\"], weights[\"yellow_1\"]])\n",
    "weights_column_2 = VBox([weights[\"red_2\"], weights[\"blue_2\"], weights[\"yellow_2\"]])  # This column is intentionally left empty to maintain the two-column layout\n",
    "weights_columns = HBox([weights_column_1, weights_column_2])\n",
    "\n",
    "# Create a box for the update button and total weight display\n",
    "update_total_weight_box = VBox([Button(description=\"Update Total Weight\", on_click=update_total_weight), HTML(value=\"Total weight:\")])\n",
    "\n",
    "# Combine the weights columns and the update box\n",
    "combined_widget_box = VBox([title_widget, weights_columns, update_total_weight_box])\n",
    "display(combined_widget_box)\n",
    "\n",
    "# TODO: Make it so the total weight value updates on the button click. \n",
    "# TODO: Add a table summarizing relative weights. "
   ]
  },
  {
   "cell_type": "code",
   "execution_count": 6,
   "metadata": {},
   "outputs": [],
   "source": [
    "initial_cred_weights = {key: weights.get(key).value\n",
    "                              for key in weights.keys()}"
   ]
  },
  {
   "cell_type": "code",
   "execution_count": 9,
   "metadata": {},
   "outputs": [
    {
     "data": {
      "image/png": "[encoded data removed]",
      "text/plain": [
       "<Figure size 1000x800 with 1 Axes>"
      ]
     },
     "metadata": {},
     "output_type": "display_data"
    }
   ],
   "source": [
    "def calculate_cweight_totals(color_creds, initial_cweights):\n",
    "    return {\n",
    "        color: initial_cweights[creds].sum() for color, creds in color_creds.items()\n",
    "    }\n",
    "\n",
    "# Example usage\n",
    "color_creds = {\n",
    "    \"red\": [\"red_1\", \"red_2\"],\n",
    "    \"blue\": [\"blue_1\", \"blue_2\"],\n",
    "    \"yellow\": [\"yellow_1\", \"yellow_2\"]\n",
    "}\n",
    "\n",
    "initial_cweights_totals = calculate_cweight_totals(color_creds, initial_cweights)\n",
    "\n",
    "plt.figure(figsize=(10, 8))\n",
    "colors = ['red', 'blue', 'yellow']\n",
    "plt.pie(initial_cweights_totals.values(), labels=initial_cweights_totals.keys(), autopct='%1.1f%%', colors=colors)\n",
    "plt.title('Initial cweights Totals by Category')\n",
    "plt.show()"
   ]
  },
  {
   "cell_type": "code",
   "execution_count": 10,
   "metadata": {},
   "outputs": [],
   "source": [
    "def calculate_voter_weights(voter_cred_df, weights):\n",
    "    \"\"\"\n",
    "    Calculate the total weight of each voter based on their credentials and the weights assigned to each credential.\n",
    "\n",
    "    Parameters:\n",
    "    - voter_cred_df (DataFrame): A DataFrame where each row represents a voter and each column represents a credential.\n",
    "    - weights (dict): A dictionary where each key is a credential and the value is the weight assigned to that credential.\n",
    "\n",
    "    Returns:\n",
    "    - Series: A Series where each index is a voter and the value is their total weight.\n",
    "    \"\"\"\n",
    "    # Initialize a Series to store the total weight of each voter\n",
    "    voter_weights = pd.Series(index=voter_cred_df.index)\n",
    "    \n",
    "    # Iterate over each voter\n",
    "    for voter in voter_cred_df.index:\n",
    "        # Initialize the total weight for the current voter\n",
    "        total_weight = 0\n",
    "        \n",
    "        # Iterate over each credential of the current voter\n",
    "        for credential, value in voter_cred_df.loc[voter].items():\n",
    "            # Add the weighted value of the credential to the total weight\n",
    "            total_weight += value * weights.get(credential).value\n",
    "        \n",
    "        # Store the total weight of the voter\n",
    "        voter_weights[voter] = total_weight\n",
    "    \n",
    "    return voter_weights\n"
   ]
  },
  {
   "cell_type": "code",
   "execution_count": 11,
   "metadata": {},
   "outputs": [],
   "source": [
    "initial_voter_weights = calculate_voter_weights(voter_cred_df, weights)"
   ]
  },
  {
   "cell_type": "markdown",
   "metadata": {},
   "source": [
    "## Re-weighting to Achieve Desired Properties \n",
    "\n",
    "For the time being, we could set a single example set of requirements: RED >= YELLOW >= BLUE.\n",
    "Moving towards more arbitrary requirements is for future work. "
   ]
  },
  {
   "cell_type": "code",
   "execution_count": 13,
   "metadata": {},
   "outputs": [],
   "source": [
    "#TODO: Move to utils\n",
    "# \n",
    "\n",
    "def reweight_color_creds(initial_voter_data: pd.DataFrame,\n",
    "                         initial_weights_dict: Dict[str, float],\n",
    "                         verbose = False):\n",
    "    \"\"\"\n",
    "    This is a specific implementation for demonstration purposes.\n",
    "    \"\"\"\n",
    "\n",
    "    final_voter_data = initial_voter_data.copy(deep=True)\n",
    "    final_weights_dict = {}\n",
    "\n",
    "    init_blue_cweight = initial_voter_data['blue_1'].sum() + initial_voter_data['blue_2'].sum()\n",
    "    init_yellow_cweight = initial_voter_data['yellow_1'].sum() + initial_voter_data['yellow_2'].sum()\n",
    "    init_red_cweight = initial_voter_data['red_1'].sum() + initial_voter_data['red_2'].sum()\n",
    "\n",
    "    #We won't be re-scaling blue, regardless. \n",
    "    final_blue_cweight = init_blue_cweight\n",
    "    final_weights_dict[\"blue_1\"] = initial_weights_dict.get(\"blue_1\")\n",
    "    final_weights_dict[\"blue_2\"] = initial_weights_dict.get(\"blue_2\")\n",
    "\n",
    "    if init_yellow_cweight >= final_blue_cweight:\n",
    "        # If yellow already exceeds blue, keep everything same. \n",
    "        yellow_blue_scaling_factor = 1.0\n",
    "        final_yellow_cweight = init_yellow_cweight\n",
    "\n",
    "    else:\n",
    "        # If blue exceeds yellow, we scale up the weight of the yellows. \n",
    "        yellow_blue_scaling_factor = final_blue_cweight/init_yellow_cweight\n",
    "        \n",
    "    final_weights_dict[\"yellow_1\"] = yellow_blue_scaling_factor * initial_weights_dict.get(\"yellow_1\")\n",
    "    final_weights_dict[\"yellow_2\"] = yellow_blue_scaling_factor * initial_weights_dict.get(\"yellow_2\")\n",
    "    final_voter_data[\"yellow_1\"] = yellow_blue_scaling_factor * initial_weights_dict.get(\"yellow_1\")\n",
    "    final_voter_data[\"yellow_2\"] = yellow_blue_scaling_factor * initial_weights_dict.get(\"yellow_2\")\n",
    "    final_yellow_cweight =  final_voter_data[\"yellow_1\"].sum() + final_voter_data[\"yellow_2\"].sum()\n",
    "\n",
    "    # Check to see that things work as expected\n",
    "    yellow_at_least_blue_check = (final_yellow_cweight >= final_blue_cweight)\n",
    "    yellow_at_least_blue_msg = \"The final yellow cweight should be greater than the final blue cweight.\"\n",
    "    assert yellow_at_least_blue_check, yellow_at_least_blue_msg\n",
    "\n",
    "    if init_red_cweight >= final_yellow_cweight:\n",
    "        # If red already exceeds yellow, keep everything same. \n",
    "        red_yellow_scaling_factor = 1.0\n",
    "\n",
    "    else:\n",
    "        # If re-scaled yellow exceeds initial red, we need to re-scale red. \n",
    "        red_yellow_scaling_factor = final_yellow_cweight/init_red_cweight\n",
    "\n",
    "    final_weights_dict[\"red_1\"] = red_yellow_scaling_factor * initial_weights_dict.get(\"red_1\")\n",
    "    final_weights_dict[\"red_2\"] = red_yellow_scaling_factor * initial_weights_dict.get(\"red_2\")\n",
    "    final_voter_data[\"red_1\"] =  red_yellow_scaling_factor * initial_voter_data[\"red_1\"]\n",
    "    final_voter_data[\"red_2\"] = red_yellow_scaling_factor * initial_voter_data[\"red_2\"]\n",
    "    final_red_cweight = final_voter_data[\"red_1\"].sum() + final_voter_data[\"red_2\"].sum()\n",
    "\n",
    "    # Check to see that things work as expected\n",
    "    red_at_least_yellow_check = (final_red_cweight >= final_yellow_cweight)\n",
    "    red_at_least_yellow__msg = \"The final yellow cweight should be greater than the final blue cweight.\"\n",
    "    assert red_at_least_yellow_check, red_at_least_yellow__msg\n",
    "\n",
    "    if verbose:\n",
    "        print(f\"Original blue cweight was: {init_blue_cweight}.\")\n",
    "        print(f\"Original yellow cweight was: {init_yellow_cweight}.\")\n",
    "        print(f\"Original red cweight is {init_red_cweight}.\")\n",
    "\n",
    "        print(f\"Yellow credentials were scaled by a factor of: {yellow_blue_scaling_factor}.\")\n",
    "        print(f\"Red credentials were scaled by a factor of: {red_yellow_scaling_factor}.\")\n",
    "\n",
    "        print(f\"Final blue cweight is: {final_blue_cweight}.\")\n",
    "        print(f\"Final yellow cweight is: {final_yellow_cweight}.\")\n",
    "        print(f\"Final red cweight is: {final_red_cweight}.\")\n",
    "\n",
    "    return final_weights_dict, final_voter_data"
   ]
  },
  {
   "cell_type": "code",
   "execution_count": 14,
   "metadata": {},
   "outputs": [
    {
     "name": "stdout",
     "output_type": "stream",
     "text": [
      "Original blue cweight was: 4.\n",
      "Original yellow cweight was: 4.\n",
      "Original red cweight is 2.\n",
      "Yellow credentials were scaled by a factor of: 1.0.\n",
      "Red credentials were scaled by a factor of: 5.0.\n",
      "Final blue cweight is: 4.\n",
      "Final yellow cweight is: 10.0.\n",
      "Final red cweight is: 10.0.\n"
     ]
    }
   ],
   "source": [
    "final_cred_weights_dict, final_voter_info_data = reweight_color_creds(initial_voter_data=voter_cred_df,\n",
    "                                         initial_weights_dict=initial_cred_weights)"
   ]
  },
  {
   "cell_type": "code",
   "execution_count": 35,
   "metadata": {},
   "outputs": [],
   "source": [
    "#TODO: Consider changing the calculation above to \n",
    "\n",
    "color_credential_list = [\"red_1\",\"red_2\",\"blue_1\",\"blue_2\",\"yellow_1\",\"yellow_2\"]\n",
    "initial_cred_weights = {key: weights.get(key).value for key in weights.keys()}\n",
    "\n",
    "initial_weighting_mechanism = SimpleCredentialWeightingMechanism(credentials = color_credential_list,\n",
    "                                                            credential_weights = initial_cred_weights)\n",
    "\n",
    "final_weighting_mechanism = SimpleCredentialWeightingMechanism(credentials = color_credential_list,\n",
    "                                                            credential_weights = final_cred_weights_dict)"
   ]
  },
  {
   "cell_type": "code",
   "execution_count": 36,
   "metadata": {},
   "outputs": [],
   "source": [
    "initial_voter_weights = initial_weighting_mechanism.calc_voter_weights(voters=voter_cred_dict)\n",
    "final_voter_weights = final_weighting_mechanism.calc_voter_weights(voters=voter_cred_dict)"
   ]
  },
  {
   "cell_type": "code",
   "execution_count": 40,
   "metadata": {},
   "outputs": [],
   "source": [
    "initial_weight_distribution = [voter.get(\"weight\") for _,voter in initial_voter_weights.items()]\n",
    "final_weight_distribution = [voter.get(\"weight\") for _,voter in final_voter_weights.items()]"
   ]
  },
  {
   "cell_type": "code",
   "execution_count": 43,
   "metadata": {},
   "outputs": [
    {
     "data": {
      "image/png": "[encoded data removed]",
      "text/plain": [
       "<Figure size 1500x500 with 2 Axes>"
      ]
     },
     "metadata": {},
     "output_type": "display_data"
    }
   ],
   "source": [
    "# Create a figure with two subplots\n",
    "fig, axs = plt.subplots(1, 2, figsize=(15, 5))\n",
    "\n",
    "# Plotting initial weight distribution\n",
    "axs[0].bar(range(len(initial_weight_distribution)), initial_weight_distribution, color='blue')\n",
    "axs[0].set_title('Initial Weight Distribution')\n",
    "axs[0].set_xlabel('Voter Number')\n",
    "axs[0].set_ylabel('Weight')\n",
    "\n",
    "# Plotting final weight distribution\n",
    "axs[1].bar(range(len(final_weight_distribution)), final_weight_distribution, color='red')\n",
    "axs[1].set_title('Final Weight Distribution')\n",
    "axs[1].set_xlabel('Voter Number')\n",
    "axs[1].set_ylabel('Weight')\n",
    "\n",
    "# Adjust layout to make room for titles\n",
    "plt.tight_layout()\n",
    "\n",
    "# Show the plots\n",
    "plt.show()\n"
   ]
  },
  {
   "cell_type": "code",
   "execution_count": 51,
   "metadata": {},
   "outputs": [],
   "source": [
    "# Plot Initial Weights\n",
    "\n",
    "initial_cweight_values = np.array([voter_cred_df[col].sum() * initial_cred_weights.get(col) \n",
    "                  for col in voter_cred_df.columns])\n",
    "final_cweight_values = np.array([voter_cred_df[col].sum() * final_cred_weights_dict.get(col) \n",
    "                  for col in voter_cred_df.columns])\n",
    "cred_names = list(voter_cred_df.columns)\n",
    "\n",
    "initial_cweights = pd.Series(\n",
    "    initial_cweight_values, index=cred_names\n",
    ").sort_values(ascending=True)\n",
    "\n",
    "final_cweights = pd.Series(\n",
    "    final_cweight_values, index=cred_names\n",
    ").sort_values(ascending=True)\n",
    "\n",
    "# Create a DataFrame with credential names as index and initial and final weights as columns\n",
    "weight_comparison_df = pd.DataFrame({\n",
    "    'Initial cweight': initial_cweight_values,\n",
    "    'Final cweight': final_cweight_values\n",
    "}, index=cred_names)\n"
   ]
  },
  {
   "cell_type": "code",
   "execution_count": 53,
   "metadata": {},
   "outputs": [
    {
     "data": {
      "text/plain": [
       "Text(0.5, 1.0, 'Comparison of Initial and Final cweight')"
      ]
     },
     "execution_count": 53,
     "metadata": {},
     "output_type": "execute_result"
    },
    {
     "data": {
      "image/png": "[encoded data removed]",
      "text/plain": [
       "<Figure size 640x480 with 1 Axes>"
      ]
     },
     "metadata": {},
     "output_type": "display_data"
    }
   ],
   "source": [
    "weight_comparison_df.plot(kind=\"bar\")\n",
    "plt.title(\"Comparison of Initial and Final cweight\")"
   ]
  },
  {
   "cell_type": "markdown",
   "metadata": {},
   "source": [
    "## Visualizing Impact of Re-weighting\n"
   ]
  },
  {
   "cell_type": "markdown",
   "metadata": {},
   "source": [
    "## Choosing a Voting Mechanism\n",
    "\n",
    "The properties of the voting are sensitive to the **aggregation rule** (vote processing rule) that turns ballots into winners, based on voter weights, as much as they are voter weights.\n",
    "\n",
    "For the time being we assume rules possess **monotonicity**. \n",
    "In the example we use a simple percentage allocation mechanism. "
   ]
  },
  {
   "cell_type": "code",
   "execution_count": 24,
   "metadata": {},
   "outputs": [],
   "source": [
    "voting_mechanism = PercentageAllocationWeightedPlurality()"
   ]
  },
  {
   "cell_type": "markdown",
   "metadata": {},
   "source": [
    "## Visualizing Metrics"
   ]
  },
  {
   "cell_type": "code",
   "execution_count": 26,
   "metadata": {},
   "outputs": [
    {
     "data": {
      "text/plain": [
       "2"
      ]
     },
     "execution_count": 26,
     "metadata": {},
     "output_type": "execute_result"
    }
   ],
   "source": [
    "\n",
    "calc_nakamoto_coefficient_additive(final_voter_weights_dict)"
   ]
  },
  {
   "cell_type": "code",
   "execution_count": 27,
   "metadata": {},
   "outputs": [],
   "source": [
    "from utils.sampling import samples_voting_population_by_pct_range\n"
   ]
  },
  {
   "cell_type": "code",
   "execution_count": 28,
   "metadata": {},
   "outputs": [],
   "source": [
    "# Demonstration of how the sampling works. \n",
    "\n",
    "NUM_SAMPLES = 10\n",
    "MIN_PCT = 0.25\n",
    "MAX_PCT = 0.75\n",
    "\n",
    "final_voter_population_samples = samples_voting_population_by_pct_range(input_dict = final_voter_weights_dict,\n",
    "                                       num_samples = NUM_SAMPLES,\n",
    "                                       min_pct = MIN_PCT,\n",
    "                                       max_pct = MAX_PCT)"
   ]
  },
  {
   "cell_type": "code",
   "execution_count": 29,
   "metadata": {},
   "outputs": [],
   "source": [
    "final_nakamoto_coefficients = [calc_nakamoto_coefficient_additive(sample) for sample in voter_population_samples]"
   ]
  },
  {
   "cell_type": "code",
   "execution_count": 32,
   "metadata": {},
   "outputs": [
    {
     "data": {
      "image/png": "[encoded data removed]",
      "text/plain": [
       "<Figure size 640x480 with 1 Axes>"
      ]
     },
     "metadata": {},
     "output_type": "display_data"
    }
   ],
   "source": [
    "plt.hist(nakamoto_coefficients, bins=range(1, max(nakamoto_coefficients)+2), align='left', rwidth=0.8)\n",
    "plt.title('Histogram of Nakamoto Coefficients')\n",
    "plt.xlabel('Nakamoto Coefficient')\n",
    "plt.ylabel('Frequency')\n",
    "plt.show()"
   ]
  },
  {
   "cell_type": "code",
   "execution_count": null,
   "metadata": {},
   "outputs": [],
   "source": []
  }
 ],
 "metadata": {
  "kernelspec": {
   "display_name": "Python 3",
   "language": "python",
   "name": "python3"
  },
  "language_info": {
   "codemirror_mode": {
    "name": "ipython",
    "version": 3
   },
   "file_extension": ".py",
   "mimetype": "text/x-python",
   "name": "python",
   "nbconvert_exporter": "python",
   "pygments_lexer": "ipython3",
   "version": "3.11.6"
  }
 },
 "nbformat": 4,
 "nbformat_minor": 2
}
