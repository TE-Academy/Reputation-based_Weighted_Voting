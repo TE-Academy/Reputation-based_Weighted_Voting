{
 "cells": [
  {
   "cell_type": "markdown",
   "metadata": {},
   "source": [
    "# Inputting Weights for NFTs\n",
    "\n",
    "This is an initial proof-of-concept for inputting information to use in simulations. "
   ]
  },
  {
   "cell_type": "code",
   "execution_count": null,
   "metadata": {},
   "outputs": [],
   "source": [
    "from ipywidgets import FloatText, HTML, Button, VBox\n",
    "\n",
    "weights = {}\n",
    "weights[\"red\"] = FloatText(description='red_NFT', value=1.0, layout={'width': '200px'})\n",
    "weights[\"blue\"] = FloatText(description='blue_NFT', value=2.0, layout={'width': '200px'})\n",
    "weights[\"yellow\"] = FloatText(description='yellow_NFT', value=5.0, layout={'width': '200px'})\n",
    "\n",
    "def update_total_weight(b):\n",
    "    total_weight = sum(weight.value for weight in weights.values())\n",
    "    total_weight_widget.value = f\"Total weight: {total_weight}\"\n",
    "\n",
    "# Add a title for the widget box\n",
    "title_widget = HTML(value=\"<h2> Assign Weights Below </h2>\")\n",
    "\n",
    "total_weight_widget = HTML(value=\"Total weight:\")\n",
    "update_button = Button(description=\"Update Total Weight\")\n",
    "update_button.on_click(update_total_weight)\n",
    "\n",
    "widget_box = VBox([title_widget, weights[\"red\"], weights[\"blue\"], weights[\"yellow\"], update_button, total_weight_widget])\n",
    "\n",
    "display(widget_box)"
   ]
  }
 ],
 "metadata": {
  "kernelspec": {
   "display_name": "Python 3",
   "language": "python",
   "name": "python3"
  },
  "language_info": {
   "codemirror_mode": {
    "name": "ipython",
    "version": 3
   },
   "file_extension": ".py",
   "mimetype": "text/x-python",
   "name": "python",
   "nbconvert_exporter": "python",
   "pygments_lexer": "ipython3",
   "version": "3.11.6"
  }
 },
 "nbformat": 4,
 "nbformat_minor": 2
}
